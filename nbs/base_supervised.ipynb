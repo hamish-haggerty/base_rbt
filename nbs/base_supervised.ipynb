{
 "cells": [
  {
   "cell_type": "markdown",
   "metadata": {},
   "source": [
    "# base_supervised\n",
    "> API needed for linear evaluation protocol, and semi-supervised learning (k-nn?) Also includes test set evaluation.\n",
    "\n",
    "All we require here is the following: \n",
    "\n",
    "- an `encoder` (already pretrained)\n",
    "- a training set (for fine tuning), `dls`\n",
    "- possibly: a test set (for evaluation) `dls_test`\n",
    "- augmentations, generally pretty standard but e.g. cifar vs mnist will be different.\n",
    "\n",
    "The general API will involve:\n",
    "\n",
    "- i) running learning rate finder\n",
    "- ii) training using 1cycle policy and the lr found in a)\n",
    "\n",
    "Designed to be extensible and work with any encoder."
   ]
  },
  {
   "cell_type": "code",
   "execution_count": null,
   "metadata": {},
   "outputs": [],
   "source": [
    "#| default_exp base_supervised"
   ]
  },
  {
   "cell_type": "code",
   "execution_count": null,
   "metadata": {},
   "outputs": [],
   "source": [
    "#| hide\n",
    "from nbdev.showdoc import *\n",
    "from fastcore.test import *"
   ]
  },
  {
   "cell_type": "code",
   "execution_count": null,
   "metadata": {},
   "outputs": [],
   "source": [
    "#| export\n",
    "import self_supervised\n",
    "import torch\n",
    "from fastai.vision.all import *\n",
    "from self_supervised.augmentations import *\n",
    "from self_supervised.layers import *\n",
    "import kornia.augmentation as korniatfm\n",
    "import torchvision.transforms as tvtfm\n",
    "from base_rbt.utils import *"
   ]
  },
  {
   "cell_type": "markdown",
   "metadata": {},
   "source": [
    "API:\n",
    "\n",
    "\n",
    "- Train and then test linear head. Requires inputs: encoder, dls_val, augpipe_val, indim,outdim, num_epochs,"
   ]
  },
  {
   "cell_type": "code",
   "execution_count": null,
   "metadata": {},
   "outputs": [],
   "source": [
    "#| export\n",
    "#Batch level augmentations for linear classifier. At present time, just RandomResizedCrop and Normalization.\n",
    "def get_linear_batch_augs(size,resize=True,\n",
    "                    resize_scale=(0.08, 1.0),resize_ratio=(3/4, 4/3),\n",
    "                    stats=None,cuda=default_device().type == 'cuda',xtra_tfms=[]):\n",
    "    \n",
    "    \"Input batch augmentations implemented in tv+kornia+fastai\"\n",
    "    tfms = []\n",
    "    if resize:tfms += [tvtfm.RandomResizedCrop((size, size), scale=resize_scale, ratio=resize_ratio)]\n",
    "    if stats is not None: tfms += [Normalize.from_stats(*stats, cuda=cuda)]\n",
    "    tfms += xtra_tfms\n",
    "    pipe = Pipeline(tfms, split_idx = 0)\n",
    "    return pipe"
   ]
  },
  {
   "cell_type": "markdown",
   "metadata": {},
   "source": [
    "The model for linear evaluation and semi-supervised learning requires an encoder and a (randomly)\n",
    "initialised head.\n"
   ]
  },
  {
   "cell_type": "code",
   "execution_count": null,
   "metadata": {},
   "outputs": [],
   "source": [
    "#| export\n",
    "\n",
    "#Linear model \n",
    "# class LinearModel(Module):\n",
    "#     \"\"\"Linear model\n",
    "#     \"\"\"\n",
    "#     def __init__(self,encoder,\n",
    "#                  indim=1024,#dimension of encoder output\n",
    "#                  outdim=10, #number of classes\n",
    "#                 ):\n",
    "#         self.encoder=encoder\n",
    "#         self.L = nn.Linear(indim,outdim)\n",
    "        \n",
    "#         if torch.cuda.is_available():\n",
    "#             self.L.to('cuda')\n",
    "        \n",
    "#     def forward(self,x):return self.L(self.encoder(x))\n",
    "\n",
    "\n",
    "class LM(nn.Module):\n",
    "    \"Basic linear model\"\n",
    "    def __init__(self,encoder,numout,enc_dim=2048):\n",
    "        super().__init__()\n",
    "        self.encoder=encoder\n",
    "        self.head=nn.Linear(enc_dim,numout)\n",
    "\n",
    "    def forward(self,x):\n",
    "        return self.head(self.encoder(x))"
   ]
  },
  {
   "cell_type": "markdown",
   "metadata": {},
   "source": [
    "The 'callback' for linear evaluation is the following:"
   ]
  },
  {
   "cell_type": "code",
   "execution_count": null,
   "metadata": {},
   "outputs": [],
   "source": [
    "#| export\n",
    "# class LinearBt(Callback):\n",
    "#     order,run_valid = 9,True\n",
    "#     def __init__(self,aug_pipelines,n_in, show_batch=False, print_augs=False,data=None):\n",
    "#         assert_aug_pipelines(aug_pipelines)\n",
    "#         self.aug1= aug_pipelines[0]\n",
    "#         self.aug2=Pipeline( split_idx = 0) #empty pipeline\n",
    "#         if print_augs: print(self.aug1), print(self.aug2)\n",
    "#         self.n_in=n_in\n",
    "#         self._show_batch=show_batch\n",
    "#         self.criterion = nn.CrossEntropyLoss()\n",
    "        \n",
    "#         self.data=data #if data is just e.g. 20 samples then don't bother re-loading each time\n",
    "        \n",
    "#     def before_fit(self): \n",
    "#         self.learn.loss_func = self.lf\n",
    "            \n",
    "#     def before_batch(self):\n",
    "\n",
    "#         if self.n_in == 1:\n",
    "#             xi,xj = self.aug1(TensorImageBW(self.x)), self.aug2(TensorImageBW(self.x))                            \n",
    "#         elif self.n_in == 3:\n",
    "#             xi,xj = self.aug1(TensorImage(self.x)), self.aug2(TensorImage(self.x))\n",
    "#         self.learn.xb = (xi,)\n",
    "\n",
    "#         if self._show_batch:\n",
    "#             self.learn.aug_x = torch.cat([xi, xj])\n",
    "\n",
    "#     def lf(self, pred, *yb):        \n",
    "#         loss=self.criterion(pred,self.y)\n",
    "#         return loss\n",
    "\n",
    "#     @torch.no_grad()\n",
    "#     def show(self, n=1):\n",
    "#         if self._show_batch==False:\n",
    "#             print('Need to set show_batch=True')\n",
    "#             return\n",
    "#         bs = self.learn.aug_x.size(0)//2\n",
    "#         x1,x2  = self.learn.aug_x[:bs], self.learn.aug_x[bs:]\n",
    "#         idxs = np.random.choice(range(bs),n,False)\n",
    "#         x1 = self.aug1.decode(x1[idxs].to('cpu').clone(),full=False).clamp(0,1) #full=True / False\n",
    "#         x2 = self.aug2.decode(x2[idxs].to('cpu').clone(),full=False).clamp(0,1) #full=True / False\n",
    "#         images = []\n",
    "#         for i in range(n): images += [x1[i],x2[i]]\n",
    "#         return show_batch(x1[0], None, images, max_n=len(images), nrows=n)\n",
    "\n",
    "\n",
    "#A more comprehensive callback, copy pasted from cancer-proj\n",
    "class LinearBt(Callback):\n",
    "    order,run_valid = 9,True\n",
    "    def __init__(self,aug_pipelines,n_in, show_batch=False, print_augs=False,data=None,\n",
    "                 tune_model_path=None,tune_save_after=None):\n",
    "        self.aug1= aug_pipelines[0]\n",
    "        self.aug2=Pipeline( split_idx = 0) #empty pipeline\n",
    "        if print_augs: print(self.aug1), print(self.aug2)\n",
    "        self.n_in=n_in\n",
    "        self._show_batch=show_batch\n",
    "        self.criterion = nn.CrossEntropyLoss()\n",
    "        self.data=data #if data is just e.g. 20 samples then don't bother re-loading each time\n",
    "        self.tune_model_path=tune_model_path\n",
    "        self.tune_save_after = tune_save_after\n",
    "\n",
    "\n",
    "    def after_create(self):\n",
    "        self.learn.tune_model_path_dict = {}\n",
    "        self.learn.tune_model_path=self.tune_model_path\n",
    "\n",
    "\n",
    "    def before_fit(self):\n",
    "        self.learn.loss_func = self.lf\n",
    "            \n",
    "    def before_batch(self):\n",
    "\n",
    "        if self.n_in == 1:\n",
    "            xi,xj = self.aug1(TensorImageBW(self.x)), self.aug2(TensorImageBW(self.x))                            \n",
    "        elif self.n_in == 3:\n",
    "            xi,xj = self.aug1(TensorImage(self.x)), self.aug2(TensorImage(self.x))\n",
    "        self.learn.xb = (xi,)\n",
    "\n",
    "        if self._show_batch:\n",
    "            self.learn.aug_x = torch.cat([xi, xj])\n",
    "\n",
    "            \n",
    "    def after_epoch(self):\n",
    "        \"Usually patched in based on how we want to save\"\n",
    "        \n",
    "        true_epoch = self.epoch+1\n",
    "\n",
    "        \n",
    "        # if true_epoch%self.tune_save_after == 0 and self.learn.tune_model_path!=None:\n",
    "        #     #self.learn.tune_path = self.learn.tune_path +f'_epochs={self.n_epoch//50}'\n",
    "        #     #path = self.learn.tune_model_path + f'_epochs={true_epoch}'\n",
    "            \n",
    "        #     path = self.learn.tune_model_path\n",
    "        #     print(f'We are saving after true epoch {true_epoch} at path {path}')\n",
    "        #     torch.save(self.learn.model.state_dict(), path)\n",
    "        #     #self.learn.tune_model_path_dict[true_epoch]=path\n",
    "\n",
    "\n",
    "    def lf(self, pred, *yb):        \n",
    "        loss=self.criterion(pred,self.y)\n",
    "        return loss\n",
    "\n",
    "    @torch.no_grad()\n",
    "    def show(self, n=1):\n",
    "        if self._show_batch==False:\n",
    "            print('Need to set show_batch=True')\n",
    "            return\n",
    "        bs = self.learn.aug_x.size(0)//2\n",
    "        x1,x2  = self.learn.aug_x[:bs], self.learn.aug_x[bs:]\n",
    "        idxs = np.random.choice(range(bs),n,False)\n",
    "        x1 = self.aug1.decode(x1[idxs].to('cpu').clone(),full=False).clamp(0,1) #full=True / False\n",
    "        x2 = self.aug2.decode(x2[idxs].to('cpu').clone(),full=False).clamp(0,1) #full=True / False\n",
    "        images = []\n",
    "        for i in range(n): images += [x1[i],x2[i]]\n",
    "        return show_batch(x1[0], None, images, max_n=len(images), nrows=n)"
   ]
  },
  {
   "cell_type": "markdown",
   "metadata": {},
   "source": [
    "Test:"
   ]
  },
  {
   "cell_type": "markdown",
   "metadata": {},
   "source": [
    "Example usage: First inputs needed. In the next cell we get dls_val and dls_test. "
   ]
  },
  {
   "cell_type": "code",
   "execution_count": null,
   "metadata": {},
   "outputs": [
    {
     "data": {
      "text/plain": [
       "{'airplane',\n",
       " 'automobile',\n",
       " 'bird',\n",
       " 'cat',\n",
       " 'deer',\n",
       " 'dog',\n",
       " 'frog',\n",
       " 'horse',\n",
       " 'ship',\n",
       " 'truck'}"
      ]
     },
     "execution_count": null,
     "metadata": {},
     "output_type": "execute_result"
    }
   ],
   "source": [
    "#| hide\n",
    "\n",
    "#Inputs needed: First set hps and get dls_val and dls_test\n",
    "device=default_device().type\n",
    "cuda=(device=='cuda')\n",
    "#hps\n",
    "n_in=3\n",
    "bs=4\n",
    "bs_test=4 #Make sure it divides length of test set\n",
    "trs_len=2*bs #number of training examples\n",
    "tst_len=2*bs_test #num\n",
    "size=32\n",
    "\n",
    "#get the data\n",
    "path = untar_data(URLs.CIFAR)\n",
    "fnames = get_image_files(path / \"train\")\n",
    "fnames=fnames.shuffle()\n",
    "def label_func(fname):\n",
    "    return fname.name.split('_')[1].strip('png').strip('.')\n",
    "\n",
    "labels = [label_func(fname) for fname in fnames]\n",
    "\n",
    "dls_train = ImageDataLoaders.from_lists(path, fnames[0:trs_len], labels[0:trs_len],bs=bs, item_tfms=[Resize(size=size)], #batch_tfms=[ToTensor(), IntToFloatTensor()],\n",
    "                                  valid_pct=0.0,num_workers=0,device=device)\n",
    "\n",
    "\n",
    "\n",
    "\n",
    "dls_test = ImageDataLoaders.from_lists(path, fnames[0:tst_len], labels[0:tst_len],bs=bs_test, item_tfms=[Resize(size=size)], #batch_tfms=[ToTensor(), IntToFloatTensor()],\n",
    "                                  valid_pct=0.0,num_workers=0,device=device)\n",
    "\n",
    "\n",
    "\n",
    "set(labels) #Check that the labels make sense"
   ]
  },
  {
   "cell_type": "markdown",
   "metadata": {},
   "source": [
    "Augmentations and learner:"
   ]
  },
  {
   "cell_type": "code",
   "execution_count": null,
   "metadata": {},
   "outputs": [],
   "source": [
    "#| export\n",
    "def show_linear_batch(dls,n_in,aug,n=2,print_augs=True):\n",
    "    \"Given a linear learner, show a batch\"\n",
    "    bt = LinearBt(aug,show_batch=True,n_in=n_in,print_augs=print_augs)\n",
    "    learn = Learner(dls,model=None, cbs=[bt])\n",
    "    b = dls.one_batch()\n",
    "    learn._split(b)\n",
    "    learn('before_batch')\n",
    "    axes = learn.linear_bt.show(n=n)\n",
    "    "
   ]
  },
  {
   "cell_type": "code",
   "execution_count": null,
   "metadata": {},
   "outputs": [],
   "source": [
    "# import matplotlib as mpl\n",
    "# mpl.rc('image', cmap='gray')"
   ]
  },
  {
   "cell_type": "code",
   "execution_count": null,
   "metadata": {},
   "outputs": [
    {
     "name": "stdout",
     "output_type": "stream",
     "text": [
      "Pipeline: RandomResizedCrop -> Normalize -- {'mean': tensor([[[[0.4910]],\n",
      "\n",
      "         [[0.4820]],\n",
      "\n",
      "         [[0.4470]]]]), 'std': tensor([[[[0.2470]],\n",
      "\n",
      "         [[0.2430]],\n",
      "\n",
      "         [[0.2610]]]]), 'axes': (0, 2, 3)}\n",
      "Pipeline: \n"
     ]
    },
    {
     "data": {
      "image/png": "[encoded data removed]",
      "text/plain": [
       "<Figure size 600x600 with 4 Axes>"
      ]
     },
     "metadata": {},
     "output_type": "display_data"
    }
   ],
   "source": [
    "#| hide\n",
    "aug_pipelines_supervised = [get_linear_batch_augs(size=size,resize=True,stats=cifar_stats,resize_scale=(0.3, 1.0))]\n",
    "show_linear_batch(dls=dls_train,n_in=n_in,n=2,aug=aug_pipelines_supervised,print_augs=True)"
   ]
  },
  {
   "cell_type": "markdown",
   "metadata": {},
   "source": [
    "Helper functions to compute e.g. test set accuracy of a given model. We use test time augmentation"
   ]
  },
  {
   "cell_type": "code",
   "execution_count": null,
   "metadata": {},
   "outputs": [],
   "source": [
    "#| export\n",
    "\n",
    "@torch.no_grad()\n",
    "def predict_model(xval,yval,model,aug_pipelines_test,numavg=3,criterion = CrossEntropyLossFlat(),deterministic=False):\n",
    "    \"Note that this assumes xval is entire validation set. If it doesn't fit in memory, can't use this guy\"\n",
    "    \n",
    "    model.eval()\n",
    "\n",
    "    N=xval.shape[0]\n",
    "    \n",
    "    if not deterministic:\n",
    "\n",
    "        probs=0\n",
    "        for _ in range(numavg):\n",
    "\n",
    "            probs += torch.softmax(model(aug_pipelines_test[0](xval)),dim=1) #test time augmentation. This also gets around issue of randomness in the dataloader in each session...\n",
    "\n",
    "        probs *= 1/numavg\n",
    "        \n",
    "    else:\n",
    "        probs = torch.softmax(model(xval),dim=1)\n",
    "\n",
    "    \n",
    "    ypred = cast(torch.argmax(probs, dim=1),TensorCategory)\n",
    "\n",
    "    correct = (ypred == yval)#.type(torch.FloatTensor)\n",
    "\n",
    "    #correct = (torch.argmax(ypred,dim=1) == yval).type(torch.FloatTensor)\n",
    "    num_correct = correct.sum()\n",
    "    accuracy = num_correct/N\n",
    "\n",
    "    #val_loss = criterion(scores,yval)\n",
    "    \n",
    "    return probs,ypred,accuracy.item()#,val_loss.item()\n",
    "\n",
    "@torch.no_grad()\n",
    "def predict_whole_model(dls_test, model, aug_pipelines_test, numavg=3, criterion=CrossEntropyLossFlat(), deterministic=False):\n",
    "    \"\"\"\n",
    "    Predicts the labels and probabilities for the entire test set using the specified model and data augmentation\n",
    "    pipelines. Returns a dictionary containing the labels, probabilities, predicted labels, and accuracy.\n",
    "\n",
    "    Args:\n",
    "        dls_test: The test dataloader.\n",
    "        model: The trained model.\n",
    "        aug_pipelines_test: The test data augmentation pipelines.\n",
    "        numavg: The number of times to perform test-time augmentation.\n",
    "        criterion: The loss function to use for computing the accuracy.\n",
    "        deterministic: Whether to use deterministic computation.\n",
    "\n",
    "    Returns:\n",
    "        A dictionary containing the labels, probabilities, predicted labels, and accuracy.\n",
    "    \"\"\"\n",
    "    model.eval()\n",
    "    total_len = len(dls_test.dataset)\n",
    "    y = torch.zeros(total_len, dtype=torch.long)\n",
    "    probs = torch.zeros(total_len, model.head.out_features)\n",
    "    ypred = torch.zeros(total_len, dtype=torch.long)\n",
    "\n",
    "    start_idx = 0\n",
    "    for xval, yval in dls_test.train:\n",
    "        end_idx = start_idx + len(xval)\n",
    "        _probs, _ypred, acc = predict_model(xval, yval, model, aug_pipelines_test, numavg, criterion, deterministic)\n",
    "        y[start_idx:end_idx] = yval\n",
    "        probs[start_idx:end_idx] = _probs\n",
    "        ypred[start_idx:end_idx] = _ypred\n",
    "        start_idx = end_idx\n",
    "\n",
    "    # Calculate the overall accuracy\n",
    "    acc = (ypred == y).float().mean().item()\n",
    "\n",
    "    # Return the predictions and labels in a dictionary\n",
    "    #return {'y': y, 'probs': probs, 'ypred': ypred, 'acc': acc}\n",
    "    return y,probs,ypred,acc\n"
   ]
  },
  {
   "cell_type": "markdown",
   "metadata": {},
   "source": [
    "This enables us to freeze the encoder as needed:"
   ]
  },
  {
   "cell_type": "code",
   "execution_count": null,
   "metadata": {},
   "outputs": [],
   "source": [
    "#| export\n",
    "def encoder_head_splitter(m):\n",
    "    return L(sequential(*m.encoder),m.head).map(params)"
   ]
  },
  {
   "cell_type": "markdown",
   "metadata": {},
   "source": [
    "`SupervisedLearning` allows us to perform either linear evaluation or semi-supervised learning."
   ]
  },
  {
   "cell_type": "code",
   "execution_count": null,
   "metadata": {},
   "outputs": [],
   "source": [
    "#| export\n",
    "\n",
    "class SupervisedLearning:\n",
    "    \"Train model using supervised learning. Either linear evaluation or semi-supervised.\"\n",
    "\n",
    "    def __init__(self,encoder,device,config):\n",
    "\n",
    "\n",
    "        self.encoder = encoder\n",
    "        self.device = device\n",
    "        \n",
    "        for key, value in vars(config).items():\n",
    "            setattr(self, key, value)\n",
    "        \n",
    "        self.learn = self.setup_learn()\n",
    "\n",
    "    \n",
    "    def setup_learn(self):\n",
    "        \"\"\"\n",
    "        Sets up the learner with the model, callbacks, and metrics.\n",
    "\n",
    "        Returns:\n",
    "        - learn: The Learner object.\n",
    "        \"\"\"\n",
    "        # Setup the model: encoder + head\n",
    "        model = LM(encoder=self.encoder, enc_dim=self.enc_dim, numout=len(self.dls_train.vocab))\n",
    "        model.to(self.device)\n",
    "\n",
    "        # Setup the learner with callbacks and metrics\n",
    "        bt = LinearBt(aug_pipelines=self.aug_pipelines_supervised, show_batch=True, n_in=self.n_in, print_augs=True)\n",
    "        learn = Learner(self.dls_train, model, splitter=encoder_head_splitter,cbs=[bt],wd=self.wd, metrics=accuracy)\n",
    "\n",
    "        return learn\n",
    "    \n",
    "    def supervised_learning(self,epochs:int=1):\n",
    "\n",
    "        test_grad_on(self.learn.model.encoder)\n",
    "        test_grad_on(self.learn.model.head)\n",
    "        lrs = self.learn.lr_find()\n",
    "        self.learn.fit_one_cycle(epochs, lrs.valley)\n",
    "        return self.learn.model\n",
    "    \n",
    "    def linear_evaluation(self,epochs:int=1):\n",
    "\n",
    "        self.learn.freeze() #freeze encoder\n",
    "        test_grad_off(self.learn.model.encoder)\n",
    "        lrs = self.learn.lr_find() #find learning rate\n",
    "        self.learn.fit_one_cycle(epochs, lrs.valley) #fit head\n",
    "        return self.learn.model\n",
    "\n",
    "    def semi_supervised(self,freeze_epochs:int=1,epochs:int=1):\n",
    "\n",
    "        self.learn.freeze() #freeze encoder\n",
    "        test_grad_off(self.learn.model.encoder)\n",
    "        self.learn.fit(freeze_epochs) #fit head for (typically one) epoch\n",
    "        self.learn.unfreeze() #unfreeze encoder\n",
    "        test_grad_on(self.learn.model)\n",
    "        lrs = self.learn.lr_find() #find learning rate\n",
    "        self.learn.fit_one_cycle(epochs, lrs.valley) #fit all\n",
    "        return self.learn.model\n"
   ]
  },
  {
   "cell_type": "markdown",
   "metadata": {},
   "source": [
    "Full example of how to use:"
   ]
  },
  {
   "cell_type": "code",
   "execution_count": null,
   "metadata": {},
   "outputs": [],
   "source": [
    "#| hide\n",
    "\n",
    "# encoder = create_fastai_encoder(xresnet18(),pretrained=False,n_in=n_in) #Need an encoder (this will be trained by BT)\n",
    "# enc_dim=1024\n",
    "\n",
    "# hp_dict = {'dls_train':dls_train,'dls_test':dls_test, 'aug_pipelines_supervised':aug_pipelines_supervised,'n_in':n_in,'wd':0, 'enc_dim':enc_dim}\n",
    "\n",
    "\n",
    "# supervised = SupervisedLearning(encoder=encoder,hp_dict=hp_dict)\n",
    "# model = supervised.linear_evaluation(epochs=1)\n",
    "# y,probs,ypred,acc = predict_whole_model(dls_test, model, aug_pipelines_supervised, numavg=3, criterion=CrossEntropyLossFlat(), deterministic=False)\n",
    "\n",
    "# supervised = SupervisedLearning(encoder=encoder,hp_dict=hp_dict)\n",
    "# model = supervised.semi_supervised(freeze_epochs=2,epochs=2)\n"
   ]
  },
  {
   "cell_type": "markdown",
   "metadata": {},
   "source": [
    "One we have a trained model, making predictions and measuring performance on test set is straightforward:\n"
   ]
  },
  {
   "cell_type": "code",
   "execution_count": null,
   "metadata": {},
   "outputs": [],
   "source": [
    "#| hide\n",
    "\n",
    "#y,probs,ypred,acc = predict_whole_model(dls_test, model, aug_pipelines_supervised, numavg=3, criterion=CrossEntropyLossFlat(), deterministic=False)\n",
    "#print(f\"Accuracy: {acc:.2f}\")"
   ]
  },
  {
   "cell_type": "code",
   "execution_count": null,
   "metadata": {},
   "outputs": [],
   "source": [
    "#| hide\n",
    "import nbdev; nbdev.nbdev_export()"
   ]
  }
 ],
 "metadata": {
  "kernelspec": {
   "display_name": "python3",
   "language": "python",
   "name": "python3"
  }
 },
 "nbformat": 4,
 "nbformat_minor": 4
}
