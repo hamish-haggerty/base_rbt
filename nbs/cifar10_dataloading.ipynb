{
 "cells": [
  {
   "cell_type": "markdown",
   "metadata": {},
   "source": [
    "# cifar10_dataloading\n",
    "\n",
    "> How to load cifar10 datasets, for SSL and supervised learning\n",
    " "
   ]
  },
  {
   "cell_type": "code",
   "execution_count": null,
   "metadata": {},
   "outputs": [],
   "source": [
    "#| default_exp cifar10_dataloading"
   ]
  },
  {
   "cell_type": "code",
   "execution_count": null,
   "metadata": {},
   "outputs": [],
   "source": [
    "#| hide\n",
    "from nbdev.showdoc import *\n",
    "from fastcore.test import *"
   ]
  },
  {
   "cell_type": "code",
   "execution_count": null,
   "metadata": {},
   "outputs": [],
   "source": [
    "#| export\n",
    "import torch\n",
    "from fastai.vision.all import *\n",
    "# from self_supervised.augmentations import *\n",
    "# from self_supervised.layers import *\n",
    "from base_rbt.helper import *"
   ]
  },
  {
   "cell_type": "markdown",
   "metadata": {},
   "source": [
    "CIFAR10"
   ]
  },
  {
   "cell_type": "code",
   "execution_count": null,
   "metadata": {},
   "outputs": [],
   "source": [
    "#| export\n",
    "\n",
    "def get_bt_cifar10_train_dls(bs,device,num_workers=12):\n",
    "  \n",
    "    return ImageDataLoaders.from_lists(path, fnames_train, labels_train,bs=bs, item_tfms=[Resize(size=size)], #batch_tfms=[ToTensor(), IntToFloatTensor()],\n",
    "                                  valid_pct=0.0,num_workers=num_workers,device=device,seed=seed\n",
    "                                      )\n",
    "\n",
    "\n",
    "def get_supervised_cifar10_train_dls(bs,device,num_workers=12):\n",
    "\n",
    "    return ImageDataLoaders.from_lists(path, fnames_train, labels_train,bs=bs, item_tfms=[Resize(size=size)], #batch_tfms=[ToTensor(), IntToFloatTensor()],\n",
    "                                  valid_pct=0.0,num_workers=num_workers,device=device,seed=seed\n",
    "                                      )\n",
    "\n",
    "def get_supervised_cifar10_test_dls(bs,device,num_workers=12):\n",
    "    return ImageDataLoaders.from_lists(path, fnames_test, labels_test,bs=bs, item_tfms=[Resize(size=size)], #batch_tfms=[ToTensor(), IntToFloatTensor()],\n",
    "                                  valid_pct=0.0,num_workers=num_workers,device=device,seed=seed\n",
    "                                      )\n",
    "                                      \n",
    "\n",
    "def get_supervised_cifar10_test_dls():pass\n",
    "\n",
    "seed=42\n",
    "size=32\n",
    "path = untar_data(URLs.CIFAR)\n",
    "fnames_train = get_image_files(path / \"train\") \n",
    "fnames_train.sort()\n",
    "#shuffle data (in reproducible way)\n",
    "seed_everything(seed=seed)\n",
    "fnames_train = fnames_train.shuffle()\n",
    "\n",
    "fnames_test = get_image_files(path / \"test\")\n",
    "\n",
    "def label_func(fname):\n",
    "    return fname.name.split('_')[1].strip('png').strip('.')\n",
    "\n",
    "#labels for train,eval and test\n",
    "labels_train = [label_func(fname) for fname in fnames_train]\n",
    "labels_test = [label_func(fname) for fname in fnames_test]\n",
    "\n",
    "test_eq(len(labels_train),len(fnames_train))\n",
    "test_eq(len(labels_test),len(fnames_test))\n",
    "test_eq(len(set(labels_train)),10)\n",
    "test_eq(len(labels_train),50000)\n",
    "test_eq(len(labels_test),10000)\n",
    "\n"
   ]
  },
  {
   "cell_type": "code",
   "execution_count": null,
   "metadata": {},
   "outputs": [],
   "source": [
    "#| hide\n",
    "import nbdev; nbdev.nbdev_export()"
   ]
  }
 ],
 "metadata": {
  "kernelspec": {
   "display_name": "python3",
   "language": "python",
   "name": "python3"
  }
 },
 "nbformat": 4,
 "nbformat_minor": 4
}
