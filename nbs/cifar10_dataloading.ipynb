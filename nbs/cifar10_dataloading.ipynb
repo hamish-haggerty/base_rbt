{
 "cells": [
  {
   "cell_type": "markdown",
   "metadata": {},
   "source": [
    "# cifar10_dataloading\n",
    "\n",
    "> How to load cifar10 datasets, for SSL and supervised learning\n",
    " "
   ]
  },
  {
   "cell_type": "code",
   "execution_count": null,
   "metadata": {},
   "outputs": [],
   "source": [
    "#| default_exp cifar10_dataloading"
   ]
  },
  {
   "cell_type": "code",
   "execution_count": null,
   "metadata": {},
   "outputs": [],
   "source": [
    "#| hide\n",
    "from nbdev.showdoc import *\n",
    "from fastcore.test import *"
   ]
  },
  {
   "cell_type": "code",
   "execution_count": null,
   "metadata": {},
   "outputs": [],
   "source": [
    "#| export\n",
    "import torch\n",
    "from fastai.vision.all import *\n",
    "import time #for resetting to random state\n",
    "# from self_supervised.augmentations import *\n",
    "# from self_supervised.layers import *\n",
    "import random\n",
    "from base_rbt.utils import *"
   ]
  },
  {
   "cell_type": "markdown",
   "metadata": {},
   "source": [
    "CIFAR10"
   ]
  },
  {
   "cell_type": "code",
   "execution_count": null,
   "metadata": {},
   "outputs": [],
   "source": [
    "#| export\n",
    "\n",
    "def get_bt_cifar10_train_dls(bs, size, device, pct_dataset=1.0, num_workers=12):\n",
    "    path,fnames_train, labels_train = load_cifar10_train_data(pct_dataset)\n",
    "    test_eq(len(labels_train), len(fnames_train))\n",
    "    dls = ImageDataLoaders.from_lists(path, fnames_train, labels_train, bs=bs, item_tfms=[Resize(size=size)],\n",
    "                                      valid_pct=0.0, num_workers=num_workers, device=device)\n",
    "    if pct_dataset == 1.0:\n",
    "        test_eq(len(dls.train), 50000)\n",
    "    return dls\n",
    "\n",
    "def get_supervised_cifar10_train_dls(bs, size, device,dataset_dir=None, pct_dataset=1.0, num_workers=12):\n",
    "    path,fnames_train, labels_train = load_cifar10_train_data(pct_dataset)\n",
    "    test_eq(len(labels_train), len(fnames_train))\n",
    "    dls = ImageDataLoaders.from_lists(path, fnames_train, labels_train, bs=bs, item_tfms=[Resize(size=size)],\n",
    "                                      valid_pct=0.0, num_workers=num_workers, device=device)\n",
    "    if pct_dataset == 1.0:\n",
    "        test_eq(len(dls.train_ds), 50000)\n",
    "    return dls\n",
    "\n",
    "def get_supervised_cifar10_test_dls(bs, size, device,dataset_dir=None, pct_dataset=1.0, num_workers=12):\n",
    "    path,fnames_test, labels_test = load_cifar10_test_data(pct_dataset)\n",
    "    test_eq(len(labels_test), len(fnames_test))\n",
    "    dls = ImageDataLoaders.from_lists(path, fnames_test, labels_test, bs=bs, item_tfms=[Resize(size=size)],\n",
    "                                      valid_pct=0.0, num_workers=num_workers, device=device)\n",
    "    if pct_dataset == 1.0:\n",
    "        test_eq(len(dls.train_ds), 10000)\n",
    "    return dls\n",
    "\n",
    "def load_cifar10_train_data(pct_dataset=1.0):\n",
    "    path = untar_data(URLs.CIFAR)\n",
    "    fnames_train = get_image_files(path / \"train\")\n",
    "    fnames_train.sort()\n",
    "    #shuffle data (in reproducible way)\n",
    "    seed_everything(seed=42)\n",
    "    fnames_train = fnames_train.shuffle()\n",
    "    #TODO: test that always orders in same way\n",
    "    seed_everything(seed=int(time.time())) #reset to (pseudo)-random state\n",
    "    \n",
    "    labels_train = [label_func(fname) for fname in fnames_train]\n",
    "    n = int(len(fnames_train) * pct_dataset)\n",
    "    fnames_train,labels_train = fnames_train[:n], labels_train[:n]\n",
    "    if pct_dataset == 1.0:\n",
    "        test_eq(len(fnames_train), 50000)\n",
    "    return path, fnames_train, labels_train\n",
    "\n",
    "def load_cifar10_test_data(pct_dataset=1.0):\n",
    "    path = untar_data(URLs.CIFAR)\n",
    "    fnames_test = get_image_files(path / \"test\")\n",
    "    labels_test = [label_func(fname) for fname in fnames_test]\n",
    "    \n",
    "    # Shuffle the data. Why? So e.g. if we only use 10% of the dataset, we get a random 10%,\n",
    "    #which should include all classes.\n",
    "    data = list(zip(fnames_test, labels_test))\n",
    "    random.shuffle(data)\n",
    "    fnames_test, labels_test = zip(*data)\n",
    "    \n",
    "    n = int(len(fnames_test) * pct_dataset)\n",
    "    fnames_test, labels_test = fnames_test[:n], labels_test[:n]\n",
    "    \n",
    "    if pct_dataset == 1.0:\n",
    "        test_eq(len(fnames_test), 10000)\n",
    "    \n",
    "    return path, fnames_test, labels_test\n",
    "\n",
    "\n",
    "def label_func(fname):\n",
    "    return fname.name.split('_')[1].strip('png').strip('.')"
   ]
  },
  {
   "cell_type": "code",
   "execution_count": null,
   "metadata": {},
   "outputs": [],
   "source": [
    "#|hide \n",
    "\n",
    "dls_train = get_supervised_cifar10_train_dls(bs=64, size=32, device='cpu', pct_dataset=1.0)\n",
    "dls_test = get_supervised_cifar10_test_dls(bs=64, size=32, device='cpu', pct_dataset=1.0)\n"
   ]
  },
  {
   "cell_type": "code",
   "execution_count": null,
   "metadata": {},
   "outputs": [],
   "source": [
    "#| hide\n",
    "import nbdev; nbdev.nbdev_export()"
   ]
  }
 ],
 "metadata": {
  "kernelspec": {
   "display_name": "python3",
   "language": "python",
   "name": "python3"
  }
 },
 "nbformat": 4,
 "nbformat_minor": 4
}
