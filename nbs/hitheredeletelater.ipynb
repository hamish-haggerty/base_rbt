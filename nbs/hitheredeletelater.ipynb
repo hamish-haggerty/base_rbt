{
 "cells": [
  {
   "cell_type": "code",
   "execution_count": null,
   "id": "c683f4d3",
   "metadata": {},
   "outputs": [],
   "source": [
    "#| default_exp hitheredeletelater"
   ]
  },
  {
   "cell_type": "code",
   "execution_count": null,
   "id": "94d561dd",
   "metadata": {},
   "outputs": [],
   "source": [
    "#| export\n",
    "import math\n"
   ]
  },
  {
   "cell_type": "code",
   "execution_count": null,
   "id": "658874a4",
   "metadata": {},
   "outputs": [],
   "source": [
    "#| export\n",
    "\n",
    "x=math.pi"
   ]
  },
  {
   "cell_type": "code",
   "execution_count": null,
   "id": "c5f5b905",
   "metadata": {},
   "outputs": [],
   "source": [
    "#| export\n",
    "\n",
    "def foo():\n",
    "    return math.pi\n"
   ]
  },
  {
   "cell_type": "code",
   "execution_count": null,
   "id": "939cef7a",
   "metadata": {},
   "outputs": [],
   "source": [
    "#| hide\n",
    "import nbdev; nbdev.nbdev_export()"
   ]
  },
  {
   "cell_type": "code",
   "execution_count": null,
   "id": "f18d8ae0",
   "metadata": {},
   "outputs": [],
   "source": []
  }
 ],
 "metadata": {
  "kernelspec": {
   "display_name": "Python 3 (ipykernel)",
   "language": "python",
   "name": "python3"
  }
 },
 "nbformat": 4,
 "nbformat_minor": 5
}
