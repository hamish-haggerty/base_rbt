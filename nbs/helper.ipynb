{
 "cells": [
  {
   "cell_type": "markdown",
   "id": "4674e05a",
   "metadata": {},
   "source": [
    "Rename this guy"
   ]
  },
  {
   "cell_type": "code",
   "execution_count": null,
   "id": "ffe94c61",
   "metadata": {},
   "outputs": [],
   "source": [
    "#| default_exp helper"
   ]
  },
  {
   "cell_type": "code",
   "execution_count": null,
   "id": "c5d61c59",
   "metadata": {},
   "outputs": [],
   "source": [
    "#| hide\n",
    "from nbdev.showdoc import *\n",
    "import torch"
   ]
  },
  {
   "cell_type": "code",
   "execution_count": null,
   "id": "94ed26f5",
   "metadata": {},
   "outputs": [],
   "source": [
    "#|export\n",
    "from fastcore.test import *"
   ]
  },
  {
   "cell_type": "code",
   "execution_count": null,
   "id": "1ccb3438",
   "metadata": {},
   "outputs": [],
   "source": [
    "#| export\n",
    "def grad_on(f,on=False):\n",
    "    \"Turn gradients on or off\"\n",
    "    for p in f.parameters():\n",
    "        p.requires_grad=on\n",
    "    return f"
   ]
  },
  {
   "cell_type": "code",
   "execution_count": null,
   "id": "9c976f71",
   "metadata": {},
   "outputs": [],
   "source": [
    "#| export\n",
    "def test_grad_off(model):\n",
    "    \"Test all gradients are off\"\n",
    "    for p in model.parameters():\n",
    "        test_eq(p.requires_grad,False)\n"
   ]
  },
  {
   "cell_type": "code",
   "execution_count": null,
   "id": "8a8e76e6",
   "metadata": {},
   "outputs": [],
   "source": [
    "#| export\n",
    "def test_grad_on(model):\n",
    "    \"Test all gradients are on\"\n",
    "    for p in model.parameters():\n",
    "        test_eq(p.requires_grad,True)\n"
   ]
  },
  {
   "cell_type": "code",
   "execution_count": null,
   "id": "cce06b64",
   "metadata": {},
   "outputs": [],
   "source": [
    "#| export\n",
    "def grad_on_eval(f,grad_on=True,eval_mode=False):\n",
    "    \"Turn gradients on or off; put into training or eval mode\"\n",
    "    \n",
    "    if eval_mode:\n",
    "        f.eval()\n",
    "    else:\n",
    "        f.train()\n",
    "         \n",
    "    f=grad_on(f,on=grad_on)\n",
    "    \n",
    "    return f"
   ]
  },
  {
   "cell_type": "code",
   "execution_count": null,
   "id": "59466b01",
   "metadata": {},
   "outputs": [],
   "source": [
    "#| hide\n",
    "import nbdev; nbdev.nbdev_export()"
   ]
  },
  {
   "cell_type": "code",
   "execution_count": null,
   "id": "9d24366f",
   "metadata": {},
   "outputs": [],
   "source": []
  }
 ],
 "metadata": {
  "kernelspec": {
   "display_name": "Python 3 (ipykernel)",
   "language": "python",
   "name": "python3"
  }
 },
 "nbformat": 4,
 "nbformat_minor": 5
}
