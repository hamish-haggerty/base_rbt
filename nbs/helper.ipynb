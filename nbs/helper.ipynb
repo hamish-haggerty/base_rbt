{
 "cells": [
  {
   "cell_type": "markdown",
   "id": "d32189ee",
   "metadata": {},
   "source": [
    "# helper\n",
    "\n",
    "> helper stuff.\n",
    " \n",
    "\n"
   ]
  },
  {
   "cell_type": "markdown",
   "id": "42d83fcf",
   "metadata": {},
   "source": [
    "Rename this guy"
   ]
  },
  {
   "cell_type": "code",
   "execution_count": null,
   "id": "c39d03d4",
   "metadata": {},
   "outputs": [],
   "source": [
    "#| default_exp helper"
   ]
  },
  {
   "cell_type": "code",
   "execution_count": null,
   "id": "23e903be",
   "metadata": {},
   "outputs": [],
   "source": [
    "#| hide\n",
    "from nbdev.showdoc import *\n",
    "import torch"
   ]
  },
  {
   "cell_type": "code",
   "execution_count": null,
   "id": "39912107",
   "metadata": {},
   "outputs": [],
   "source": [
    "#|export\n",
    "from fastcore.test import *"
   ]
  },
  {
   "cell_type": "code",
   "execution_count": null,
   "id": "64381e44",
   "metadata": {},
   "outputs": [],
   "source": [
    "#| export\n",
    "def grad_on(f,on=False):\n",
    "    \"Turn gradients on or off\"\n",
    "    for p in f.parameters():\n",
    "        p.requires_grad=on\n",
    "    return f"
   ]
  },
  {
   "cell_type": "code",
   "execution_count": null,
   "id": "40e917f8",
   "metadata": {},
   "outputs": [],
   "source": [
    "#| export\n",
    "def test_grad_off(model):\n",
    "    \"Test all gradients are off\"\n",
    "    for p in model.parameters():\n",
    "        test_eq(p.requires_grad,False)"
   ]
  },
  {
   "cell_type": "code",
   "execution_count": null,
   "id": "2f5affea",
   "metadata": {},
   "outputs": [],
   "source": [
    "#| export\n",
    "def test_grad_on(model):\n",
    "    \"Test all gradients are on\"\n",
    "    for p in model.parameters():\n",
    "        test_eq(p.requires_grad,True)"
   ]
  },
  {
   "cell_type": "code",
   "execution_count": null,
   "id": "719e4880",
   "metadata": {},
   "outputs": [],
   "source": [
    "#| export\n",
    "def grad_on_eval(f,grad_on=True,eval_mode=False):\n",
    "    \"Turn gradients on or off; put into training or eval mode\"\n",
    "    \n",
    "    if eval_mode:\n",
    "        f.eval()\n",
    "    else:\n",
    "        f.train()\n",
    "         \n",
    "    f=grad_on(f,on=grad_on)\n",
    "    \n",
    "    return f"
   ]
  },
  {
   "cell_type": "code",
   "execution_count": null,
   "id": "aec8875a",
   "metadata": {},
   "outputs": [],
   "source": [
    "#| hide\n",
    "import nbdev; nbdev.nbdev_export()"
   ]
  },
  {
   "cell_type": "code",
   "execution_count": null,
   "id": "21b7e624",
   "metadata": {},
   "outputs": [],
   "source": []
  }
 ],
 "metadata": {
  "kernelspec": {
   "display_name": "python3",
   "language": "python",
   "name": "python3"
  }
 },
 "nbformat": 4,
 "nbformat_minor": 5
}
