{
 "cells": [
  {
   "cell_type": "markdown",
   "metadata": {},
   "source": [
    "## base_rbt\n",
    "\n",
    "Package implementing paper: [paper](https://arxiv.org/abs/2401.00692)\n",
    "\n",
    "Comparison of supervised and self-supervised (via Barlow Twins) ImageNet pre-training, on the downstream task of fine-tuning a cancer image dataset with limited labelled data.\n",
    "\n",
    "Implements further SSL pre-training, where an already pre-trained model is further pre-trained.\n"
   ]
  },
  {
   "cell_type": "markdown",
   "metadata": {},
   "source": [
    "## How to use\n",
    "\n",
    "Please see `Experiments` which gives details on running code e.g. in google Colab. "
   ]
  },
  {
   "cell_type": "markdown",
   "metadata": {},
   "source": [
    "## References\n",
    "\n",
    "1. [paper](link-to-paper)\n",
    "2. [self-supervised library](https://github.com/KeremTurgutlu/self_supervised)"
   ]
  }
 ],
 "metadata": {
  "kernelspec": {
   "display_name": "python3",
   "language": "python",
   "name": "python3"
  }
 },
 "nbformat": 4,
 "nbformat_minor": 4
}
