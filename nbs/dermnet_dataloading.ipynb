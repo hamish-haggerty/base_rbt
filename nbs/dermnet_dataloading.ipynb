{
 "cells": [
  {
   "cell_type": "markdown",
   "metadata": {},
   "source": [
    "# derment_dataloading\n",
    "\n",
    "> How to load dermnet datasets, for SSL (possibly later: and supervised learning)\n",
    "\n",
    " "
   ]
  },
  {
   "cell_type": "code",
   "execution_count": null,
   "metadata": {},
   "outputs": [],
   "source": [
    "#| default_exp dermnet_dataloading"
   ]
  },
  {
   "cell_type": "code",
   "execution_count": null,
   "metadata": {},
   "outputs": [],
   "source": [
    "#| hide\n",
    "from nbdev.showdoc import *\n",
    "from fastcore.test import *"
   ]
  },
  {
   "cell_type": "code",
   "execution_count": null,
   "metadata": {},
   "outputs": [],
   "source": [
    "#| export\n",
    "import torch\n",
    "from fastai.vision.all import *\n",
    "# from self_supervised.augmentations import *\n",
    "# from self_supervised.layers import *\n",
    "from base_rbt.utils import *"
   ]
  },
  {
   "cell_type": "code",
   "execution_count": null,
   "metadata": {},
   "outputs": [],
   "source": [
    "#| export\n",
    "\n",
    "\n",
    "# Define your label function\n",
    "# This function should be able to handle paths from both train and test directories correctly\n",
    "def label_func(x):\n",
    "    # Example label function, modify it according to your dataset's structure\n",
    "    return x.parent.name\n",
    "\n",
    "def get_bt_dermnet_train_dls(bs,size,device,pct_dataset=1.0,num_workers=12):\n",
    "    #NOTE: assume unzip like: !unzip -q -o \"/content/drive/My Drive/dermnet.zip\" -d \"/content/drive/My Drive/DermNetDataset\"\n",
    "\n",
    "    item_tfms = [Resize(size)]\n",
    "    \n",
    "    base_train_dir = \"/content/DermNetDataset/train\"\n",
    "    base_test_dir = \"/content/DermNetDataset/test\"\n",
    "    fnames_train = get_image_files(base_train_dir)\n",
    "    fnames_test = get_image_files(base_test_dir)\n",
    "    fnames = fnames_train + fnames_test #we are doing SSL so we can use all the data\n",
    "\n",
    "    n = int(len(fnames)*pct_dataset)\n",
    "\n",
    "    test_eq(len(fnames_train), 15557)\n",
    "    test_eq(len(fnames_test),4002)\n",
    "    # Combine the lists\n",
    "    test_eq(len(fnames),19559)\n",
    "\n",
    "    # Create the combined DataLoader\n",
    "    dls = ImageDataLoaders.from_path_func(\n",
    "        path=\".\",\n",
    "        fnames=fnames[0:n],\n",
    "        label_func=label_func,\n",
    "        bs=bs,\n",
    "        item_tfms=item_tfms,\n",
    "        valid_pct=0,\n",
    "        device=device,\n",
    "        num_workers=num_workers*(device=='cuda')\n",
    "                                          )\n",
    "\n",
    "    \n",
    "    \n",
    "    if pct_dataset == 1.0:\n",
    "        test_eq(len(dls.train_ds),19559)\n",
    "\n",
    "    else:\n",
    "        print('warning: we are not using whole dataset')\n",
    "        print(f'len(dls.train_ds)={len(dls.train_ds)}')\n",
    "\n",
    "    return dls\n",
    "\n",
    "\n",
    "\n",
    " "
   ]
  },
  {
   "cell_type": "code",
   "execution_count": null,
   "metadata": {},
   "outputs": [],
   "source": [
    "#| hide\n",
    "import nbdev; nbdev.nbdev_export()"
   ]
  }
 ],
 "metadata": {
  "kernelspec": {
   "display_name": "python3",
   "language": "python",
   "name": "python3"
  }
 },
 "nbformat": 4,
 "nbformat_minor": 4
}
