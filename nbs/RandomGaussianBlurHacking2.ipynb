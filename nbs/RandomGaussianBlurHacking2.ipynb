{
 "cells": [
  {
   "cell_type": "code",
   "execution_count": null,
   "id": "011e6d27",
   "metadata": {},
   "outputs": [],
   "source": [
    "from base_rbt.base_model import *\n",
    "from base_rbt.base_lf import *\n",
    "from base_rbt.base_linear import *\n",
    "from base_rbt.helper import *"
   ]
  },
  {
   "cell_type": "code",
   "execution_count": null,
   "id": "565adac4",
   "metadata": {},
   "outputs": [],
   "source": [
    "import self_supervised\n",
    "import torch\n",
    "from fastai.vision.all import *\n",
    "from self_supervised.augmentations import *\n",
    "from self_supervised.layers import *"
   ]
  },
  {
   "cell_type": "code",
   "execution_count": null,
   "id": "46172033",
   "metadata": {},
   "outputs": [],
   "source": [
    "device='cuda' if torch.cuda.is_available() else 'cpu'"
   ]
  },
  {
   "cell_type": "code",
   "execution_count": null,
   "id": "1d400f5f",
   "metadata": {},
   "outputs": [],
   "source": [
    "#data: dls, dls_val, dls_test\n",
    "#get the data: Need dls, dls_val, dls_test\n",
    "\n",
    "size=32\n",
    "seed=42\n",
    "path = untar_data(URLs.CIFAR)\n",
    "fnames = get_image_files(path / \"train\")\n",
    "fnames.sort()\n",
    "#shuffle data (in reproducible way)\n",
    "seed_everything(seed=seed)\n",
    "fnames = fnames.shuffle()\n",
    "\n",
    "#fnames for train, eval and test\n",
    "fnames = fnames[0:20]\n",
    "\n",
    "\n",
    "def label_func(fname):\n",
    "    return fname.name.split('_')[1].strip('png').strip('.')\n",
    "\n",
    "#labels for train,eval and test\n",
    "labels = [label_func(fname) for fname in fnames]\n",
    "\n",
    "#Used for training encoder i.e. BT\n",
    "dls = ImageDataLoaders.from_lists(path, fnames, labels,bs=20, item_tfms=[Resize(size=32)], #batch_tfms=[ToTensor(), IntToFloatTensor()],\n",
    "                                  valid_pct=0.0,num_workers=12,device=device,seed=seed)\n",
    "\n",
    "set(labels) #Check that the labels make sense"
   ]
  },
  {
   "cell_type": "code",
   "execution_count": null,
   "id": "c0529629",
   "metadata": {},
   "outputs": [],
   "source": [
    "x,y=dls.train.one_batch()\n",
    "print(x.sum())"
   ]
  },
  {
   "cell_type": "code",
   "execution_count": null,
   "id": "eed59a53",
   "metadata": {},
   "outputs": [],
   "source": [
    "aug_pipelines_1 = get_barlow_twins_aug_pipelines(s1=100,size=size,\n",
    "                                                 flip=False,crop=False,bw=False, rotate=False,noise=False, jitter=False, blur=True,solar=False,\n",
    "                                                 resize_scale=(0.4, 1.0),rotate_deg=45,noise_std=0.0125, jitter_s=1.0, blur_s=math.ceil(size/10)+1,\n",
    "                                                 bw_p=0.2, flip_p=0.5,rotate_p=0.25,noise_p=0.5, jitter_p=0.5, blur_p=1.0,sol_p=0.0,\n",
    "                                                 stats=cifar_stats,same_on_batch=False, xtra_tfms=[]\n",
    "                                                 )\n",
    "\n",
    "aug_pipelines_2 = get_barlow_twins_aug_pipelines(s1=100,size=size,\n",
    "                                                 flip=False,crop=False,bw=False, rotate=False,noise=False, jitter=False, blur=False,solar=False,\n",
    "                                                 resize_scale=(0.4, 1.0),rotate_deg=45,noise_std=0.0125, jitter_s=1.0, blur_s=math.ceil(size/10)+1,sol_t=0.01,sol_a=0.01,\n",
    "                                                 bw_p=0.2, flip_p=0.5,rotate_p=0.25,noise_p=0.5, jitter_p=0.5, blur_p=0.001,sol_p=0.2,\n",
    "                                                 stats=cifar_stats,same_on_batch=False, xtra_tfms=[]\n",
    "                                                 )\n",
    "\n",
    "aug_pipelines = [aug_pipelines_1,aug_pipelines_2]\n",
    "\n",
    "aug_pipelines = [aug_pipelines_1,aug_pipelines_2]"
   ]
  },
  {
   "cell_type": "code",
   "execution_count": null,
   "id": "2d6f4940",
   "metadata": {},
   "outputs": [],
   "source": [
    "show_bt_batch(dls=dls,n_in=3,aug=aug_pipelines,n=10,print_augs=True)"
   ]
  },
  {
   "cell_type": "code",
   "execution_count": null,
   "id": "0dc2522b",
   "metadata": {},
   "outputs": [],
   "source": [
    "aug_pipelines_1 = get_barlow_twins_aug_pipelines(s1=0.1,size=size,\n",
    "                                                 flip=False,crop=False,bw=False, rotate=False,noise=False, jitter=False, blur=True,solar=False,\n",
    "                                                 resize_scale=(0.4, 1.0),rotate_deg=45,noise_std=0.0125, jitter_s=1.0, blur_s=math.ceil(size/10)+1,\n",
    "                                                 bw_p=0.2, flip_p=0.5,rotate_p=0.25,noise_p=0.5, jitter_p=0.5, blur_p=1.0,sol_p=0.0,\n",
    "                                                 stats=cifar_stats,same_on_batch=False, xtra_tfms=[]\n",
    "                                                 )\n",
    "\n",
    "aug_pipelines_2 = get_barlow_twins_aug_pipelines(s1=0.1,size=size,\n",
    "                                                 flip=False,crop=False,bw=False, rotate=False,noise=False, jitter=False, blur=False,solar=False,\n",
    "                                                 resize_scale=(0.4, 1.0),rotate_deg=45,noise_std=0.0125, jitter_s=1.0, blur_s=math.ceil(size/10)+1,sol_t=0.01,sol_a=0.01,\n",
    "                                                 bw_p=0.2, flip_p=0.5,rotate_p=0.25,noise_p=0.5, jitter_p=0.5, blur_p=0.001,sol_p=0.2,\n",
    "                                                 stats=cifar_stats,same_on_batch=False, xtra_tfms=[]\n",
    "                                                 )\n",
    "\n",
    "aug_pipelines = [aug_pipelines_1,aug_pipelines_2]\n",
    "\n",
    "aug_pipelines = [aug_pipelines_1,aug_pipelines_2]\n",
    "\n",
    "show_bt_batch(dls=dls,n_in=3,aug=aug_pipelines,n=10,print_augs=True)"
   ]
  },
  {
   "cell_type": "code",
   "execution_count": null,
   "id": "f3b1e8c9",
   "metadata": {},
   "outputs": [],
   "source": [
    "aug_pipelines_1 = get_barlow_twins_aug_pipelines(s1=2.0,size=size,\n",
    "                                                 flip=False,crop=False,bw=False, rotate=False,noise=False, jitter=False, blur=True,solar=False,\n",
    "                                                 resize_scale=(0.4, 1.0),rotate_deg=45,noise_std=0.0125, jitter_s=1.0, blur_s=math.ceil(size/10)+1,\n",
    "                                                 bw_p=0.2, flip_p=0.5,rotate_p=0.25,noise_p=0.5, jitter_p=0.5, blur_p=1.0,sol_p=0.0,\n",
    "                                                 stats=cifar_stats,same_on_batch=False, xtra_tfms=[]\n",
    "                                                 )\n",
    "\n",
    "aug_pipelines_2 = get_barlow_twins_aug_pipelines(s1=2.0,size=size,\n",
    "                                                 flip=False,crop=False,bw=False, rotate=False,noise=False, jitter=False, blur=False,solar=False,\n",
    "                                                 resize_scale=(0.4, 1.0),rotate_deg=45,noise_std=0.0125, jitter_s=1.0, blur_s=math.ceil(size/10)+1,sol_t=0.01,sol_a=0.01,\n",
    "                                                 bw_p=0.2, flip_p=0.5,rotate_p=0.25,noise_p=0.5, jitter_p=0.5, blur_p=0.001,sol_p=0.2,\n",
    "                                                 stats=cifar_stats,same_on_batch=False, xtra_tfms=[]\n",
    "                                                 )\n",
    "\n",
    "aug_pipelines = [aug_pipelines_1,aug_pipelines_2]\n",
    "\n",
    "aug_pipelines = [aug_pipelines_1,aug_pipelines_2]\n",
    "\n",
    "show_bt_batch(dls=dls,n_in=3,aug=aug_pipelines,n=10,print_augs=True)"
   ]
  },
  {
   "cell_type": "code",
   "execution_count": null,
   "id": "5e0e93c2",
   "metadata": {},
   "outputs": [],
   "source": [
    "aug_pipelines_1 = get_barlow_twins_aug_pipelines(size=size,\n",
    "                                                 flip=False,crop=False,bw=False, rotate=False,noise=False, jitter=False, blur=True,solar=False,\n",
    "                                                 resize_scale=(0.4, 1.0),rotate_deg=45,noise_std=0.0125, jitter_s=1.0, blur_s=math.ceil(size/10)+1,\n",
    "                                                 bw_p=0.2, flip_p=0.5,rotate_p=0.25,noise_p=0.5, jitter_p=0.5, blur_p=1.0,sol_p=0.0,\n",
    "                                                 stats=cifar_stats,same_on_batch=False, xtra_tfms=[]\n",
    "                                                 )\n",
    "\n",
    "aug_pipelines_2 = get_barlow_twins_aug_pipelines(size=size,\n",
    "                                                 flip=False,crop=False,bw=False, rotate=False,noise=False, jitter=False, blur=False,solar=False,\n",
    "                                                 resize_scale=(0.4, 1.0),rotate_deg=45,noise_std=0.0125, jitter_s=1.0, blur_s=math.ceil(size/10)+1,sol_t=0.01,sol_a=0.01,\n",
    "                                                 bw_p=0.2, flip_p=0.5,rotate_p=0.25,noise_p=0.5, jitter_p=0.5, blur_p=0.001,sol_p=0.2,\n",
    "                                                 stats=cifar_stats,same_on_batch=False, xtra_tfms=[]\n",
    "                                                 )\n",
    "\n",
    "aug_pipelines = [aug_pipelines_1,aug_pipelines_2]\n",
    "\n",
    "aug_pipelines = [aug_pipelines_1,aug_pipelines_2]\n",
    "\n",
    "show_bt_batch(dls=dls,n_in=3,aug=aug_pipelines,n=20,print_augs=True)"
   ]
  },
  {
   "cell_type": "code",
   "execution_count": null,
   "id": "ec5750a5",
   "metadata": {},
   "outputs": [],
   "source": []
  }
 ],
 "metadata": {
  "kernelspec": {
   "display_name": "Python 3 (ipykernel)",
   "language": "python",
   "name": "python3"
  }
 },
 "nbformat": 4,
 "nbformat_minor": 5
}
