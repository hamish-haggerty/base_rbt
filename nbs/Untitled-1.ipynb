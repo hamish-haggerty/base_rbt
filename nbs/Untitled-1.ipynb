{
 "cells": [
  {
   "cell_type": "code",
   "execution_count": null,
   "metadata": {},
   "outputs": [],
   "source": []
  },
  {
   "cell_type": "markdown",
   "metadata": {},
   "source": [
    "Ok. Let's refactor this code utilising lessons learned from `cancer-proj`. We may need to just copy pasted a lot across. This is the functionality that we want this package to have:\n",
    "\n",
    "\n",
    "\n",
    "- Train barlow twins, and modified forms of barlow twins (i.e. different loss functions for now) in easy way. This requires severa\n",
    "    arguments: dataset, augmentation pipeline, networks weights (resnet-x) etc\n",
    "\n",
    "\n",
    "The basic idea is to use the 1cycle policy, with learning rate finder.\n",
    "\n",
    "Let's just list all the functionality we want:\n",
    "\n",
    "\n",
    "- Train BT, from scratch, on any dataset, network, augmentation pipeline, loss function. Need to have ability to save network weights and record performance after every so many epochs.\n",
    "\n",
    "- Fine tuning: linear evaluation, semi-supervised learning, K-NN, etc This requires a pretrained encoder - either one I have pretrained myself, or downloaded. We will generally use 1cycle policy style as before for  fine tuning.\n",
    "\n",
    "- Fine tune a pretrained BT (pre-pretraining).\n",
    "\n",
    "\n",
    "There's heaps morem we fill in slowly. "
   ]
  }
 ],
 "metadata": {},
 "nbformat": 4,
 "nbformat_minor": 2
}
