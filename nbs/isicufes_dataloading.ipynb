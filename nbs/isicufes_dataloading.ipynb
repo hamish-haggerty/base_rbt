{
 "cells": [
  {
   "cell_type": "markdown",
   "metadata": {},
   "source": [
    "# isicufes_dataloading\n",
    "\n",
    "> How to load isicufes data for SSL\n",
    "\n",
    " "
   ]
  },
  {
   "cell_type": "code",
   "execution_count": 1,
   "metadata": {},
   "outputs": [],
   "source": [
    "#| default_exp isicufes_dataloading"
   ]
  },
  {
   "cell_type": "code",
   "execution_count": 2,
   "metadata": {},
   "outputs": [],
   "source": [
    "#| export\n",
    "\n",
    "#directory = \"/content/drive/MyDrive/ISIC_2019_Training_Input/\""
   ]
  },
  {
   "cell_type": "code",
   "execution_count": 3,
   "metadata": {},
   "outputs": [],
   "source": [
    "#| hide\n",
    "from nbdev.showdoc import *\n",
    "from fastcore.test import *"
   ]
  },
  {
   "cell_type": "code",
   "execution_count": 4,
   "metadata": {},
   "outputs": [],
   "source": [
    "#| export\n",
    "from fastai.vision.all import *\n",
    "# from self_supervised.augmentations import *\n",
    "# from self_supervised.layers import *\n",
    "from base_rbt.utils import *\n",
    "import os\n"
   ]
  },
  {
   "cell_type": "markdown",
   "metadata": {},
   "source": [
    "Example on google colab.\n",
    "\n",
    "Need to unzip isic and ufes."
   ]
  },
  {
   "cell_type": "code",
   "execution_count": null,
   "metadata": {},
   "outputs": [],
   "source": [
    "#| hide\n",
    "\n",
    "# from base_rbt.isic_dataloading import *\n",
    "\n",
    "# # Base directory where the datasets will be stored\n",
    "# dataset_dir = \"/content/isic_dataset\"\n",
    "\n",
    "# # Specify the paths for the zip files\n",
    "# trainingvalid_zip_path = '/content/drive/MyDrive/ISIC_2019_Zipped/ISIC_2019_TrainingValid_Resized.zip'  # Add this line\n",
    "\n",
    "# # Derive the target directories for training, test, and validation datasets\n",
    "# trainingvalid_target_dir = os.path.join(dataset_dir, \"ISIC_2019_TrainingValid_Resized\")  # Add this line\n",
    "\n",
    "# # Unzip and cleanup for all datasets\n",
    "# unzip_and_cleanup(trainingvalid_zip_path, trainingvalid_target_dir) \n"
   ]
  },
  {
   "cell_type": "markdown",
   "metadata": {},
   "source": []
  },
  {
   "cell_type": "markdown",
   "metadata": {},
   "source": [
    "ufes"
   ]
  },
  {
   "cell_type": "code",
   "execution_count": null,
   "metadata": {},
   "outputs": [],
   "source": [
    "# | hide\n",
    "# !mkdir -p \"/content/PAD_UFES_20_resized\"\n",
    "# !unzip -q -o \"/content/drive/My Drive/PAD_UFES_20_resized.zip\" -d \"/content/PAD_UFES_20_resized\""
   ]
  },
  {
   "cell_type": "markdown",
   "metadata": {},
   "source": [
    "Main dataloader functions:"
   ]
  },
  {
   "cell_type": "code",
   "execution_count": null,
   "metadata": {},
   "outputs": [],
   "source": [
    "#| export\n",
    "\n",
    "\n",
    "def get_bt_isicufes_train_dls(bs,\n",
    "                          size, #not needed\n",
    "                          device,\n",
    "                          pct_dataset=1.0,\n",
    "                          num_workers=12):\n",
    "\n",
    "    dataset_dir = \"/content/isic_dataset\" #hardcoded for ssl.\n",
    "    combined_resized_dir = os.path.join(dataset_dir, \"ISIC_2019_TrainingValid_Resized\")\n",
    "    fnames_isic = get_image_files(combined_resized_dir)\n",
    "\n",
    "    fnames_ufes=[]\n",
    "    for i in [1,2,3]:\n",
    "        fnames_ufes+=get_image_files(f\"/content/PAD_UFES_20_resized/imgs_part_{i}/imgs_part_{i}\")\n",
    "\n",
    "\n",
    "    fnames = fnames_isic+fnames_ufes\n",
    "    n = int(len(fnames)*pct_dataset)\n",
    "\n",
    "    dls = ImageDataLoaders.from_path_func(\n",
    "        path=\".\",\n",
    "        fnames=fnames[0:n],\n",
    "        label_func=lambda x: '',\n",
    "        bs=bs,\n",
    "        valid_pct=0,\n",
    "        device=device,\n",
    "        num_workers=num_workers*(device=='cuda')\n",
    "                                          )\n",
    "    return dls\n"
   ]
  },
  {
   "cell_type": "code",
   "execution_count": null,
   "metadata": {},
   "outputs": [],
   "source": [
    "#| hide\n",
    "import nbdev; nbdev.nbdev_export()"
   ]
  }
 ],
 "metadata": {
  "kernelspec": {
   "display_name": "python3",
   "language": "python",
   "name": "python3"
  },
  "language_info": {
   "codemirror_mode": {
    "name": "ipython",
    "version": 3
   },
   "file_extension": ".py",
   "mimetype": "text/x-python",
   "name": "python",
   "nbconvert_exporter": "python",
   "pygments_lexer": "ipython3",
   "version": "3.10.9"
  }
 },
 "nbformat": 4,
 "nbformat_minor": 4
}
