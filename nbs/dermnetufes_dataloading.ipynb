{
 "cells": [
  {
   "cell_type": "markdown",
   "metadata": {},
   "source": [
    "# dermnetufes_dataloading\n",
    "\n",
    "> combine dermnet and ufes\n",
    "\n",
    " "
   ]
  },
  {
   "cell_type": "code",
   "execution_count": null,
   "metadata": {},
   "outputs": [],
   "source": [
    "#| default_exp dermnetufes_dataloading"
   ]
  },
  {
   "cell_type": "code",
   "execution_count": null,
   "metadata": {},
   "outputs": [],
   "source": [
    "#| hide\n",
    "from nbdev.showdoc import *\n",
    "from fastcore.test import *"
   ]
  },
  {
   "cell_type": "code",
   "execution_count": null,
   "metadata": {},
   "outputs": [],
   "source": [
    "#| export\n",
    "import torch\n",
    "from fastai.vision.all import *\n",
    "# from self_supervised.augmentations import *\n",
    "# from self_supervised.layers import *\n",
    "from base_rbt.utils import *"
   ]
  },
  {
   "cell_type": "code",
   "execution_count": null,
   "metadata": {},
   "outputs": [],
   "source": [
    "#| export\n",
    "\n",
    "#| export \n",
    "def label_func(x):\n",
    "    # Example label function, modify it according to your dataset's structure\n",
    "    return ''\n",
    "\n",
    "def get_bt_dermnetufes_train_dls(bs,size,device,pct_dataset=1.0,num_workers=12):\n",
    "\n",
    "    fnames_ufes=[]\n",
    "    for i in [1,2,3]:\n",
    "        fnames_ufes+=get_image_files(f\"/content/PAD_UFES_20_resized/imgs_part_{i}/imgs_part_{i}\")\n",
    "\n",
    "    base_train_dir = \"/content/DermNetDataset/train\"\n",
    "    base_test_dir = \"/content/DermNetDataset/test\"\n",
    "    fnames_train = get_image_files(base_train_dir)\n",
    "    fnames_test = get_image_files(base_test_dir)\n",
    "    fnames_derm = fnames_train + fnames_test #we are doing SSL so we can use all the data\n",
    "\n",
    "    fnames = fnames_ufes*2 + fnames_derm\n",
    "    n = int(len(fnames)*pct_dataset)\n",
    "    \n",
    "    dls = ImageDataLoaders.from_path_func(\n",
    "        path=\".\",\n",
    "        fnames=fnames[0:n],\n",
    "        label_func=label_func,\n",
    "        bs=bs,\n",
    "        valid_pct=0,\n",
    "        device=device,\n",
    "        num_workers=num_workers*(device=='cuda')\n",
    "                                          )\n",
    "    \n",
    "    return dls\n",
    " "
   ]
  },
  {
   "cell_type": "code",
   "execution_count": null,
   "metadata": {},
   "outputs": [],
   "source": [
    "#| hide\n",
    "import nbdev; nbdev.nbdev_export()"
   ]
  }
 ],
 "metadata": {
  "kernelspec": {
   "display_name": "python3",
   "language": "python",
   "name": "python3"
  }
 },
 "nbformat": 4,
 "nbformat_minor": 4
}
