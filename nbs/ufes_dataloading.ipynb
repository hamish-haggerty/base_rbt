{
 "cells": [
  {
   "cell_type": "markdown",
   "metadata": {},
   "source": [
    "# ufes_dataloading\n",
    "\n",
    "> How to load dermnet datasets, for SSL (possibly later: and supervised learning)\n",
    "\n",
    " "
   ]
  },
  {
   "cell_type": "code",
   "execution_count": null,
   "metadata": {},
   "outputs": [],
   "source": [
    "#| default_exp ufes_dataloading"
   ]
  },
  {
   "cell_type": "code",
   "execution_count": null,
   "metadata": {},
   "outputs": [],
   "source": [
    "#| hide\n",
    "from nbdev.showdoc import *\n",
    "from fastcore.test import *"
   ]
  },
  {
   "cell_type": "code",
   "execution_count": null,
   "metadata": {},
   "outputs": [],
   "source": [
    "#| export\n",
    "import torch\n",
    "from fastai.vision.all import *\n",
    "# from self_supervised.augmentations import *\n",
    "# from self_supervised.layers import *\n",
    "from base_rbt.utils import *"
   ]
  },
  {
   "cell_type": "code",
   "execution_count": null,
   "metadata": {},
   "outputs": [],
   "source": [
    "#| export \n",
    "def label_func(x):\n",
    "    # Example label function, modify it according to your dataset's structure\n",
    "    return ''\n",
    "\n",
    "def get_bt_ufes_train_dls(bs,size,device,pct_dataset=1.0,num_workers=12):\n",
    "    \n",
    "    #NOTE: assume unzip like:\n",
    "    #!mkdir -p \"/content/PAD_UFES_20_resized\"\n",
    "    #!unzip -q -o \"/content/drive/My Drive/PAD_UFES_20_resized.zip\" -d \"/content/PAD_UFES_20_resized\"\n",
    "\n",
    "\n",
    "    fnames=[]\n",
    "    for i in [1,2,3]:\n",
    "        fnames+=get_image_files(f\"/content/PAD_UFES_20_resized/imgs_part_{i}/imgs_part_{i}\")\n",
    "    \n",
    "    n = int(len(fnames)*pct_dataset)\n",
    "\n",
    "\n",
    "    # Create the combined DataLoader\n",
    "    dls = ImageDataLoaders.from_path_func(\n",
    "        path=\".\",\n",
    "        fnames=fnames[0:n],\n",
    "        label_func=label_func,\n",
    "        bs=bs,\n",
    "        valid_pct=0,\n",
    "        device=device,\n",
    "        num_workers=num_workers*(device=='cuda')\n",
    "                                          )\n",
    "\n",
    "    return dls"
   ]
  },
  {
   "cell_type": "code",
   "execution_count": null,
   "metadata": {},
   "outputs": [],
   "source": [
    "#| hide\n",
    "import nbdev; nbdev.nbdev_export()"
   ]
  }
 ],
 "metadata": {
  "kernelspec": {
   "display_name": "python3",
   "language": "python",
   "name": "python3"
  }
 },
 "nbformat": 4,
 "nbformat_minor": 4
}
