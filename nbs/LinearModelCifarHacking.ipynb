{
 "cells": [
  {
   "cell_type": "raw",
   "id": "2a862838",
   "metadata": {},
   "source": [
    "---\n",
    "skip_exec: true\n",
    "skip_showdoc: true\n",
    "---"
   ]
  },
  {
   "cell_type": "code",
   "execution_count": null,
   "id": "689771d2",
   "metadata": {},
   "outputs": [],
   "source": [
    "import self_supervised\n",
    "import torch\n",
    "from fastai.vision.all import *\n",
    "from self_supervised.augmentations import *\n",
    "from self_supervised.layers import *\n",
    "import kornia.augmentation as korniatfm\n",
    "import torchvision.transforms as tvtfm"
   ]
  },
  {
   "cell_type": "code",
   "execution_count": null,
   "id": "1c26470a",
   "metadata": {},
   "outputs": [],
   "source": [
    "#| hide\n",
    "device='cuda' if torch.cuda.is_available() else 'cpu'"
   ]
  },
  {
   "cell_type": "code",
   "execution_count": null,
   "id": "6d5f4a7a",
   "metadata": {},
   "outputs": [],
   "source": [
    "#Ok, so we \n",
    "n_in=3\n",
    "size=128\n",
    "bs=16\n",
    "path = untar_data(URLs.CIFAR)\n",
    "fnames = get_image_files(path / \"train\")\n",
    "\n",
    "def label_func(fname):\n",
    "    return fname.name.split('_')[1].strip('png').strip('.')\n",
    "\n",
    "labels = [label_func(fname) for fname in fnames]\n",
    "dls = ImageDataLoaders.from_lists(path, fnames, labels,item_tfms=RandomResizedCrop(128, min_scale=0.3),valid_pct=0.0)\n",
    "dls.train.show_batch(max_n=4, nrows=1, unique=True)\n"
   ]
  },
  {
   "cell_type": "code",
   "execution_count": null,
   "id": "a6b7d992",
   "metadata": {},
   "outputs": [],
   "source": [
    "def label_func(fname):\n",
    "    return fname.name.split('_')[1].strip('png').strip('.')\n",
    "\n",
    "dblock = DataBlock(\n",
    "                   get_y = label_func)\n",
    "\n",
    "dsets = dblock.datasets(items)\n",
    "dsets.train[0]"
   ]
  },
  {
   "cell_type": "code",
   "execution_count": null,
   "id": "5343da74",
   "metadata": {},
   "outputs": [],
   "source": [
    "\n",
    "dblock = DataBlock(blocks    = (ImageBlock, CategoryBlock),\n",
    "                   get_y     = label_func,item_tfms=Resize(228))#RandomResizedCrop(128,min_scale=0.01))\n",
    "\n",
    "tds = dblock.datasets(items)\n",
    "\n",
    "dls.train.show_batch(max_n=4, nrows=1, unique=False)"
   ]
  }
 ],
 "metadata": {
  "kernelspec": {
   "display_name": "Python 3 (ipykernel)",
   "language": "python",
   "name": "python3"
  }
 },
 "nbformat": 4,
 "nbformat_minor": 5
}
